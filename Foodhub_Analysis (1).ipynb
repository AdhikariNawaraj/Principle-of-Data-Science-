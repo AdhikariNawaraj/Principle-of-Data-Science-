{
 "cells": [
  {
   "cell_type": "markdown",
   "metadata": {
    "id": "Gc8x8QimJY_H"
   },
   "source": [
    "## FoodHub Data Analysis"
   ]
  },
  {
   "cell_type": "markdown",
   "metadata": {
    "id": "NqikjkWwJY_L"
   },
   "source": [
    "### Context\n",
    "\n",
    "The number of restaurants in New York is increasing day by day. Lots of students and busy professionals rely on those restaurants due to their hectic lifestyles. Online food delivery service is a great option for them. It provides them with good food from their favorite restaurants. A food aggregator company FoodHub offers access to multiple restaurants through a single smartphone app.\n",
    "\n",
    "The app allows the restaurants to receive a direct online order from a customer. The app assigns a delivery person from the company to pick up the order after it is confirmed by the restaurant. The delivery person then uses the map to reach the restaurant and waits for the food package. Once the food package is handed over to the delivery person, he/she confirms the pick-up in the app and travels to the customer's location to deliver the food. The delivery person confirms the drop-off in the app after delivering the food package to the customer. The customer can rate the order in the app. The food aggregator earns money by collecting a fixed margin of the delivery order from the restaurants.\n",
    "\n",
    "### Objective\n",
    "\n",
    "The food aggregator company has stored the data of the different orders made by the registered customers in their online portal. They want to analyze the data to get a fair idea about the demand of different restaurants which will help them in enhancing their customer experience. Suppose you are hired as a Data Scientist in this company and the Data Science team has shared some of the key questions that need to be answered. Perform the data analysis to find answers to these questions that will help the company to improve the business.\n",
    "\n",
    "### Data Description\n",
    "\n",
    "The data contains the different data related to a food order. The detailed data dictionary is given below.\n",
    "\n",
    "### Data Dictionary\n",
    "\n",
    "* order_id: Unique ID of the order\n",
    "* customer_id: ID of the customer who ordered the food\n",
    "* restaurant_name: Name of the restaurant\n",
    "* cuisine_type: Cuisine ordered by the customer\n",
    "* cost: Cost of the order\n",
    "* day_of_the_week: Indicates whether the order is placed on a weekday or weekend (The weekday is from Monday to Friday and the weekend is Saturday and Sunday)\n",
    "* rating: Rating given by the customer out of 5\n",
    "* food_preparation_time: Time (in minutes) taken by the restaurant to prepare the food. This is calculated by taking the difference between the timestamps of the restaurant's order confirmation and the delivery person's pick-up confirmation.\n",
    "* delivery_time: Time (in minutes) taken by the delivery person to deliver the food package. This is calculated by taking the difference between the timestamps of the delivery person's pick-up confirmation and drop-off information"
   ]
  },
  {
   "cell_type": "markdown",
   "metadata": {
    "id": "cEtNUxNAJY_M"
   },
   "source": [
    "### Let us start by importing the required libraries"
   ]
  },
  {
   "cell_type": "code",
   "execution_count": 6,
   "metadata": {
    "id": "u6PlpJAPJY_N"
   },
   "outputs": [],
   "source": [
    "\n",
    "# import libraries for data manipulation\n",
    "import numpy as np\n",
    "import pandas as pd\n",
    "\n",
    "# import libraries for data visualization\n",
    "import matplotlib.pyplot as plt\n",
    "import seaborn as sns\n",
    "\n",
    "#supress numerical display in scientific notations\n",
    "pd.set_option('display.float_format', lambda x: '%.2f' % x)\n",
    "\n",
    "#display all cols of df\n",
    "pd.set_option('display.max_columns', None)\n"
   ]
  },
  {
   "cell_type": "markdown",
   "metadata": {
    "id": "AdracY0HJY_O"
   },
   "source": [
    "### Understanding the structure of the data"
   ]
  },
  {
   "cell_type": "code",
   "execution_count": 7,
   "metadata": {
    "id": "GF01IZDbJY_O",
    "scrolled": true
   },
   "outputs": [
    {
     "ename": "FileNotFoundError",
     "evalue": "[Errno 2] No such file or directory: 'foodhub_order.csv'",
     "output_type": "error",
     "traceback": [
      "\u001b[0;31m---------------------------------------------------------------------------\u001b[0m",
      "\u001b[0;31mFileNotFoundError\u001b[0m                         Traceback (most recent call last)",
      "Cell \u001b[0;32mIn[7], line 2\u001b[0m\n\u001b[1;32m      1\u001b[0m \u001b[38;5;66;03m#read the data\u001b[39;00m\n\u001b[0;32m----> 2\u001b[0m df\u001b[38;5;241m=\u001b[39m\u001b[43mpd\u001b[49m\u001b[38;5;241;43m.\u001b[39;49m\u001b[43mread_csv\u001b[49m\u001b[43m(\u001b[49m\u001b[38;5;124;43m'\u001b[39;49m\u001b[38;5;124;43mfoodhub_order.csv\u001b[39;49m\u001b[38;5;124;43m'\u001b[39;49m\u001b[43m)\u001b[49m\n\u001b[1;32m      3\u001b[0m \u001b[38;5;66;03m#make a copy to easily restore later if necessary\u001b[39;00m\n\u001b[1;32m      4\u001b[0m df_foodhub\u001b[38;5;241m=\u001b[39mdf\u001b[38;5;241m.\u001b[39mcopy()\n",
      "File \u001b[0;32m~/anaconda3/lib/python3.10/site-packages/pandas/util/_decorators.py:311\u001b[0m, in \u001b[0;36mdeprecate_nonkeyword_arguments.<locals>.decorate.<locals>.wrapper\u001b[0;34m(*args, **kwargs)\u001b[0m\n\u001b[1;32m    305\u001b[0m \u001b[38;5;28;01mif\u001b[39;00m \u001b[38;5;28mlen\u001b[39m(args) \u001b[38;5;241m>\u001b[39m num_allow_args:\n\u001b[1;32m    306\u001b[0m     warnings\u001b[38;5;241m.\u001b[39mwarn(\n\u001b[1;32m    307\u001b[0m         msg\u001b[38;5;241m.\u001b[39mformat(arguments\u001b[38;5;241m=\u001b[39marguments),\n\u001b[1;32m    308\u001b[0m         \u001b[38;5;167;01mFutureWarning\u001b[39;00m,\n\u001b[1;32m    309\u001b[0m         stacklevel\u001b[38;5;241m=\u001b[39mstacklevel,\n\u001b[1;32m    310\u001b[0m     )\n\u001b[0;32m--> 311\u001b[0m \u001b[38;5;28;01mreturn\u001b[39;00m \u001b[43mfunc\u001b[49m\u001b[43m(\u001b[49m\u001b[38;5;241;43m*\u001b[39;49m\u001b[43margs\u001b[49m\u001b[43m,\u001b[49m\u001b[43m \u001b[49m\u001b[38;5;241;43m*\u001b[39;49m\u001b[38;5;241;43m*\u001b[39;49m\u001b[43mkwargs\u001b[49m\u001b[43m)\u001b[49m\n",
      "File \u001b[0;32m~/anaconda3/lib/python3.10/site-packages/pandas/io/parsers/readers.py:586\u001b[0m, in \u001b[0;36mread_csv\u001b[0;34m(filepath_or_buffer, sep, delimiter, header, names, index_col, usecols, squeeze, prefix, mangle_dupe_cols, dtype, engine, converters, true_values, false_values, skipinitialspace, skiprows, skipfooter, nrows, na_values, keep_default_na, na_filter, verbose, skip_blank_lines, parse_dates, infer_datetime_format, keep_date_col, date_parser, dayfirst, cache_dates, iterator, chunksize, compression, thousands, decimal, lineterminator, quotechar, quoting, doublequote, escapechar, comment, encoding, encoding_errors, dialect, error_bad_lines, warn_bad_lines, on_bad_lines, delim_whitespace, low_memory, memory_map, float_precision, storage_options)\u001b[0m\n\u001b[1;32m    571\u001b[0m kwds_defaults \u001b[38;5;241m=\u001b[39m _refine_defaults_read(\n\u001b[1;32m    572\u001b[0m     dialect,\n\u001b[1;32m    573\u001b[0m     delimiter,\n\u001b[0;32m   (...)\u001b[0m\n\u001b[1;32m    582\u001b[0m     defaults\u001b[38;5;241m=\u001b[39m{\u001b[38;5;124m\"\u001b[39m\u001b[38;5;124mdelimiter\u001b[39m\u001b[38;5;124m\"\u001b[39m: \u001b[38;5;124m\"\u001b[39m\u001b[38;5;124m,\u001b[39m\u001b[38;5;124m\"\u001b[39m},\n\u001b[1;32m    583\u001b[0m )\n\u001b[1;32m    584\u001b[0m kwds\u001b[38;5;241m.\u001b[39mupdate(kwds_defaults)\n\u001b[0;32m--> 586\u001b[0m \u001b[38;5;28;01mreturn\u001b[39;00m \u001b[43m_read\u001b[49m\u001b[43m(\u001b[49m\u001b[43mfilepath_or_buffer\u001b[49m\u001b[43m,\u001b[49m\u001b[43m \u001b[49m\u001b[43mkwds\u001b[49m\u001b[43m)\u001b[49m\n",
      "File \u001b[0;32m~/anaconda3/lib/python3.10/site-packages/pandas/io/parsers/readers.py:482\u001b[0m, in \u001b[0;36m_read\u001b[0;34m(filepath_or_buffer, kwds)\u001b[0m\n\u001b[1;32m    479\u001b[0m _validate_names(kwds\u001b[38;5;241m.\u001b[39mget(\u001b[38;5;124m\"\u001b[39m\u001b[38;5;124mnames\u001b[39m\u001b[38;5;124m\"\u001b[39m, \u001b[38;5;28;01mNone\u001b[39;00m))\n\u001b[1;32m    481\u001b[0m \u001b[38;5;66;03m# Create the parser.\u001b[39;00m\n\u001b[0;32m--> 482\u001b[0m parser \u001b[38;5;241m=\u001b[39m \u001b[43mTextFileReader\u001b[49m\u001b[43m(\u001b[49m\u001b[43mfilepath_or_buffer\u001b[49m\u001b[43m,\u001b[49m\u001b[43m \u001b[49m\u001b[38;5;241;43m*\u001b[39;49m\u001b[38;5;241;43m*\u001b[39;49m\u001b[43mkwds\u001b[49m\u001b[43m)\u001b[49m\n\u001b[1;32m    484\u001b[0m \u001b[38;5;28;01mif\u001b[39;00m chunksize \u001b[38;5;129;01mor\u001b[39;00m iterator:\n\u001b[1;32m    485\u001b[0m     \u001b[38;5;28;01mreturn\u001b[39;00m parser\n",
      "File \u001b[0;32m~/anaconda3/lib/python3.10/site-packages/pandas/io/parsers/readers.py:811\u001b[0m, in \u001b[0;36mTextFileReader.__init__\u001b[0;34m(self, f, engine, **kwds)\u001b[0m\n\u001b[1;32m    808\u001b[0m \u001b[38;5;28;01mif\u001b[39;00m \u001b[38;5;124m\"\u001b[39m\u001b[38;5;124mhas_index_names\u001b[39m\u001b[38;5;124m\"\u001b[39m \u001b[38;5;129;01min\u001b[39;00m kwds:\n\u001b[1;32m    809\u001b[0m     \u001b[38;5;28mself\u001b[39m\u001b[38;5;241m.\u001b[39moptions[\u001b[38;5;124m\"\u001b[39m\u001b[38;5;124mhas_index_names\u001b[39m\u001b[38;5;124m\"\u001b[39m] \u001b[38;5;241m=\u001b[39m kwds[\u001b[38;5;124m\"\u001b[39m\u001b[38;5;124mhas_index_names\u001b[39m\u001b[38;5;124m\"\u001b[39m]\n\u001b[0;32m--> 811\u001b[0m \u001b[38;5;28mself\u001b[39m\u001b[38;5;241m.\u001b[39m_engine \u001b[38;5;241m=\u001b[39m \u001b[38;5;28;43mself\u001b[39;49m\u001b[38;5;241;43m.\u001b[39;49m\u001b[43m_make_engine\u001b[49m\u001b[43m(\u001b[49m\u001b[38;5;28;43mself\u001b[39;49m\u001b[38;5;241;43m.\u001b[39;49m\u001b[43mengine\u001b[49m\u001b[43m)\u001b[49m\n",
      "File \u001b[0;32m~/anaconda3/lib/python3.10/site-packages/pandas/io/parsers/readers.py:1040\u001b[0m, in \u001b[0;36mTextFileReader._make_engine\u001b[0;34m(self, engine)\u001b[0m\n\u001b[1;32m   1036\u001b[0m     \u001b[38;5;28;01mraise\u001b[39;00m \u001b[38;5;167;01mValueError\u001b[39;00m(\n\u001b[1;32m   1037\u001b[0m         \u001b[38;5;124mf\u001b[39m\u001b[38;5;124m\"\u001b[39m\u001b[38;5;124mUnknown engine: \u001b[39m\u001b[38;5;132;01m{\u001b[39;00mengine\u001b[38;5;132;01m}\u001b[39;00m\u001b[38;5;124m (valid options are \u001b[39m\u001b[38;5;132;01m{\u001b[39;00mmapping\u001b[38;5;241m.\u001b[39mkeys()\u001b[38;5;132;01m}\u001b[39;00m\u001b[38;5;124m)\u001b[39m\u001b[38;5;124m\"\u001b[39m\n\u001b[1;32m   1038\u001b[0m     )\n\u001b[1;32m   1039\u001b[0m \u001b[38;5;66;03m# error: Too many arguments for \"ParserBase\"\u001b[39;00m\n\u001b[0;32m-> 1040\u001b[0m \u001b[38;5;28;01mreturn\u001b[39;00m \u001b[43mmapping\u001b[49m\u001b[43m[\u001b[49m\u001b[43mengine\u001b[49m\u001b[43m]\u001b[49m\u001b[43m(\u001b[49m\u001b[38;5;28;43mself\u001b[39;49m\u001b[38;5;241;43m.\u001b[39;49m\u001b[43mf\u001b[49m\u001b[43m,\u001b[49m\u001b[43m \u001b[49m\u001b[38;5;241;43m*\u001b[39;49m\u001b[38;5;241;43m*\u001b[39;49m\u001b[38;5;28;43mself\u001b[39;49m\u001b[38;5;241;43m.\u001b[39;49m\u001b[43moptions\u001b[49m\u001b[43m)\u001b[49m\n",
      "File \u001b[0;32m~/anaconda3/lib/python3.10/site-packages/pandas/io/parsers/c_parser_wrapper.py:51\u001b[0m, in \u001b[0;36mCParserWrapper.__init__\u001b[0;34m(self, src, **kwds)\u001b[0m\n\u001b[1;32m     48\u001b[0m kwds[\u001b[38;5;124m\"\u001b[39m\u001b[38;5;124musecols\u001b[39m\u001b[38;5;124m\"\u001b[39m] \u001b[38;5;241m=\u001b[39m \u001b[38;5;28mself\u001b[39m\u001b[38;5;241m.\u001b[39musecols\n\u001b[1;32m     50\u001b[0m \u001b[38;5;66;03m# open handles\u001b[39;00m\n\u001b[0;32m---> 51\u001b[0m \u001b[38;5;28;43mself\u001b[39;49m\u001b[38;5;241;43m.\u001b[39;49m\u001b[43m_open_handles\u001b[49m\u001b[43m(\u001b[49m\u001b[43msrc\u001b[49m\u001b[43m,\u001b[49m\u001b[43m \u001b[49m\u001b[43mkwds\u001b[49m\u001b[43m)\u001b[49m\n\u001b[1;32m     52\u001b[0m \u001b[38;5;28;01massert\u001b[39;00m \u001b[38;5;28mself\u001b[39m\u001b[38;5;241m.\u001b[39mhandles \u001b[38;5;129;01mis\u001b[39;00m \u001b[38;5;129;01mnot\u001b[39;00m \u001b[38;5;28;01mNone\u001b[39;00m\n\u001b[1;32m     54\u001b[0m \u001b[38;5;66;03m# Have to pass int, would break tests using TextReader directly otherwise :(\u001b[39;00m\n",
      "File \u001b[0;32m~/anaconda3/lib/python3.10/site-packages/pandas/io/parsers/base_parser.py:222\u001b[0m, in \u001b[0;36mParserBase._open_handles\u001b[0;34m(self, src, kwds)\u001b[0m\n\u001b[1;32m    218\u001b[0m \u001b[38;5;28;01mdef\u001b[39;00m \u001b[38;5;21m_open_handles\u001b[39m(\u001b[38;5;28mself\u001b[39m, src: FilePathOrBuffer, kwds: \u001b[38;5;28mdict\u001b[39m[\u001b[38;5;28mstr\u001b[39m, Any]) \u001b[38;5;241m-\u001b[39m\u001b[38;5;241m>\u001b[39m \u001b[38;5;28;01mNone\u001b[39;00m:\n\u001b[1;32m    219\u001b[0m     \u001b[38;5;124;03m\"\"\"\u001b[39;00m\n\u001b[1;32m    220\u001b[0m \u001b[38;5;124;03m    Let the readers open IOHandles after they are done with their potential raises.\u001b[39;00m\n\u001b[1;32m    221\u001b[0m \u001b[38;5;124;03m    \"\"\"\u001b[39;00m\n\u001b[0;32m--> 222\u001b[0m     \u001b[38;5;28mself\u001b[39m\u001b[38;5;241m.\u001b[39mhandles \u001b[38;5;241m=\u001b[39m \u001b[43mget_handle\u001b[49m\u001b[43m(\u001b[49m\n\u001b[1;32m    223\u001b[0m \u001b[43m        \u001b[49m\u001b[43msrc\u001b[49m\u001b[43m,\u001b[49m\n\u001b[1;32m    224\u001b[0m \u001b[43m        \u001b[49m\u001b[38;5;124;43m\"\u001b[39;49m\u001b[38;5;124;43mr\u001b[39;49m\u001b[38;5;124;43m\"\u001b[39;49m\u001b[43m,\u001b[49m\n\u001b[1;32m    225\u001b[0m \u001b[43m        \u001b[49m\u001b[43mencoding\u001b[49m\u001b[38;5;241;43m=\u001b[39;49m\u001b[43mkwds\u001b[49m\u001b[38;5;241;43m.\u001b[39;49m\u001b[43mget\u001b[49m\u001b[43m(\u001b[49m\u001b[38;5;124;43m\"\u001b[39;49m\u001b[38;5;124;43mencoding\u001b[39;49m\u001b[38;5;124;43m\"\u001b[39;49m\u001b[43m,\u001b[49m\u001b[43m \u001b[49m\u001b[38;5;28;43;01mNone\u001b[39;49;00m\u001b[43m)\u001b[49m\u001b[43m,\u001b[49m\n\u001b[1;32m    226\u001b[0m \u001b[43m        \u001b[49m\u001b[43mcompression\u001b[49m\u001b[38;5;241;43m=\u001b[39;49m\u001b[43mkwds\u001b[49m\u001b[38;5;241;43m.\u001b[39;49m\u001b[43mget\u001b[49m\u001b[43m(\u001b[49m\u001b[38;5;124;43m\"\u001b[39;49m\u001b[38;5;124;43mcompression\u001b[39;49m\u001b[38;5;124;43m\"\u001b[39;49m\u001b[43m,\u001b[49m\u001b[43m \u001b[49m\u001b[38;5;28;43;01mNone\u001b[39;49;00m\u001b[43m)\u001b[49m\u001b[43m,\u001b[49m\n\u001b[1;32m    227\u001b[0m \u001b[43m        \u001b[49m\u001b[43mmemory_map\u001b[49m\u001b[38;5;241;43m=\u001b[39;49m\u001b[43mkwds\u001b[49m\u001b[38;5;241;43m.\u001b[39;49m\u001b[43mget\u001b[49m\u001b[43m(\u001b[49m\u001b[38;5;124;43m\"\u001b[39;49m\u001b[38;5;124;43mmemory_map\u001b[39;49m\u001b[38;5;124;43m\"\u001b[39;49m\u001b[43m,\u001b[49m\u001b[43m \u001b[49m\u001b[38;5;28;43;01mFalse\u001b[39;49;00m\u001b[43m)\u001b[49m\u001b[43m,\u001b[49m\n\u001b[1;32m    228\u001b[0m \u001b[43m        \u001b[49m\u001b[43mstorage_options\u001b[49m\u001b[38;5;241;43m=\u001b[39;49m\u001b[43mkwds\u001b[49m\u001b[38;5;241;43m.\u001b[39;49m\u001b[43mget\u001b[49m\u001b[43m(\u001b[49m\u001b[38;5;124;43m\"\u001b[39;49m\u001b[38;5;124;43mstorage_options\u001b[39;49m\u001b[38;5;124;43m\"\u001b[39;49m\u001b[43m,\u001b[49m\u001b[43m \u001b[49m\u001b[38;5;28;43;01mNone\u001b[39;49;00m\u001b[43m)\u001b[49m\u001b[43m,\u001b[49m\n\u001b[1;32m    229\u001b[0m \u001b[43m        \u001b[49m\u001b[43merrors\u001b[49m\u001b[38;5;241;43m=\u001b[39;49m\u001b[43mkwds\u001b[49m\u001b[38;5;241;43m.\u001b[39;49m\u001b[43mget\u001b[49m\u001b[43m(\u001b[49m\u001b[38;5;124;43m\"\u001b[39;49m\u001b[38;5;124;43mencoding_errors\u001b[39;49m\u001b[38;5;124;43m\"\u001b[39;49m\u001b[43m,\u001b[49m\u001b[43m \u001b[49m\u001b[38;5;124;43m\"\u001b[39;49m\u001b[38;5;124;43mstrict\u001b[39;49m\u001b[38;5;124;43m\"\u001b[39;49m\u001b[43m)\u001b[49m\u001b[43m,\u001b[49m\n\u001b[1;32m    230\u001b[0m \u001b[43m    \u001b[49m\u001b[43m)\u001b[49m\n",
      "File \u001b[0;32m~/anaconda3/lib/python3.10/site-packages/pandas/io/common.py:702\u001b[0m, in \u001b[0;36mget_handle\u001b[0;34m(path_or_buf, mode, encoding, compression, memory_map, is_text, errors, storage_options)\u001b[0m\n\u001b[1;32m    697\u001b[0m \u001b[38;5;28;01melif\u001b[39;00m \u001b[38;5;28misinstance\u001b[39m(handle, \u001b[38;5;28mstr\u001b[39m):\n\u001b[1;32m    698\u001b[0m     \u001b[38;5;66;03m# Check whether the filename is to be opened in binary mode.\u001b[39;00m\n\u001b[1;32m    699\u001b[0m     \u001b[38;5;66;03m# Binary mode does not support 'encoding' and 'newline'.\u001b[39;00m\n\u001b[1;32m    700\u001b[0m     \u001b[38;5;28;01mif\u001b[39;00m ioargs\u001b[38;5;241m.\u001b[39mencoding \u001b[38;5;129;01mand\u001b[39;00m \u001b[38;5;124m\"\u001b[39m\u001b[38;5;124mb\u001b[39m\u001b[38;5;124m\"\u001b[39m \u001b[38;5;129;01mnot\u001b[39;00m \u001b[38;5;129;01min\u001b[39;00m ioargs\u001b[38;5;241m.\u001b[39mmode:\n\u001b[1;32m    701\u001b[0m         \u001b[38;5;66;03m# Encoding\u001b[39;00m\n\u001b[0;32m--> 702\u001b[0m         handle \u001b[38;5;241m=\u001b[39m \u001b[38;5;28;43mopen\u001b[39;49m\u001b[43m(\u001b[49m\n\u001b[1;32m    703\u001b[0m \u001b[43m            \u001b[49m\u001b[43mhandle\u001b[49m\u001b[43m,\u001b[49m\n\u001b[1;32m    704\u001b[0m \u001b[43m            \u001b[49m\u001b[43mioargs\u001b[49m\u001b[38;5;241;43m.\u001b[39;49m\u001b[43mmode\u001b[49m\u001b[43m,\u001b[49m\n\u001b[1;32m    705\u001b[0m \u001b[43m            \u001b[49m\u001b[43mencoding\u001b[49m\u001b[38;5;241;43m=\u001b[39;49m\u001b[43mioargs\u001b[49m\u001b[38;5;241;43m.\u001b[39;49m\u001b[43mencoding\u001b[49m\u001b[43m,\u001b[49m\n\u001b[1;32m    706\u001b[0m \u001b[43m            \u001b[49m\u001b[43merrors\u001b[49m\u001b[38;5;241;43m=\u001b[39;49m\u001b[43merrors\u001b[49m\u001b[43m,\u001b[49m\n\u001b[1;32m    707\u001b[0m \u001b[43m            \u001b[49m\u001b[43mnewline\u001b[49m\u001b[38;5;241;43m=\u001b[39;49m\u001b[38;5;124;43m\"\u001b[39;49m\u001b[38;5;124;43m\"\u001b[39;49m\u001b[43m,\u001b[49m\n\u001b[1;32m    708\u001b[0m \u001b[43m        \u001b[49m\u001b[43m)\u001b[49m\n\u001b[1;32m    709\u001b[0m     \u001b[38;5;28;01melse\u001b[39;00m:\n\u001b[1;32m    710\u001b[0m         \u001b[38;5;66;03m# Binary mode\u001b[39;00m\n\u001b[1;32m    711\u001b[0m         handle \u001b[38;5;241m=\u001b[39m \u001b[38;5;28mopen\u001b[39m(handle, ioargs\u001b[38;5;241m.\u001b[39mmode)\n",
      "\u001b[0;31mFileNotFoundError\u001b[0m: [Errno 2] No such file or directory: 'foodhub_order.csv'"
     ]
    }
   ],
   "source": [
    "#read the data\n",
    "df=pd.read_csv('foodhub_order.csv')\n",
    "#make a copy to easily restore later if necessary\n",
    "df_foodhub=df.copy()"
   ]
  },
  {
   "cell_type": "markdown",
   "metadata": {
    "id": "KBBtYKw61rCQ"
   },
   "source": [
    "## **Data Overview**"
   ]
  },
  {
   "cell_type": "code",
   "execution_count": null,
   "metadata": {
    "colab": {
     "base_uri": "https://localhost:8080/",
     "height": 206
    },
    "executionInfo": {
     "elapsed": 6,
     "status": "ok",
     "timestamp": 1706904566015,
     "user": {
      "displayName": "Nathan Sickler",
      "userId": "08962164009556034743"
     },
     "user_tz": 360
    },
    "id": "KOicd2am1rCQ",
    "outputId": "e71966c4-e09f-463e-f666-9692fe6abc5c"
   },
   "outputs": [],
   "source": [
    "#first we look at the first few rows of data\n"
   ]
  },
  {
   "cell_type": "markdown",
   "metadata": {
    "id": "J_Y9aJDJJY_P"
   },
   "source": [
    "#### **Observations:**\n",
    "- The dataset consists of numerical and categorical values.\n",
    "- The rating column consists of both string values. We will deal with this issue later on."
   ]
  },
  {
   "cell_type": "markdown",
   "metadata": {
    "id": "c3kenV4vJY_Q"
   },
   "source": [
    "### **Question 1:** How many rows and columns are present in the data?\n",
    "\n"
   ]
  },
  {
   "cell_type": "code",
   "execution_count": 5,
   "metadata": {
    "colab": {
     "base_uri": "https://localhost:8080/"
    },
    "executionInfo": {
     "elapsed": 6,
     "status": "ok",
     "timestamp": 1706904566016,
     "user": {
      "displayName": "Nathan Sickler",
      "userId": "08962164009556034743"
     },
     "user_tz": 360
    },
    "id": "Yvz5i-PhJY_Q",
    "outputId": "0ffcfb44-dba8-4780-930d-f38ab831ce06"
   },
   "outputs": [
    {
     "ename": "NameError",
     "evalue": "name 'df_foodhub' is not defined",
     "output_type": "error",
     "traceback": [
      "\u001b[0;31m---------------------------------------------------------------------------\u001b[0m",
      "\u001b[0;31mNameError\u001b[0m                                 Traceback (most recent call last)",
      "Cell \u001b[0;32mIn[5], line 3\u001b[0m\n\u001b[1;32m      1\u001b[0m \u001b[38;5;66;03m#prints the number of rows and columns\u001b[39;00m\n\u001b[0;32m----> 3\u001b[0m \u001b[38;5;28mprint\u001b[39m(\u001b[38;5;124mf\u001b[39m\u001b[38;5;124m'\u001b[39m\u001b[38;5;124mThe dataset contains \u001b[39m\u001b[38;5;132;01m{\u001b[39;00mdf_foodhub\u001b[38;5;241m.\u001b[39mshape[\u001b[38;5;241m0\u001b[39m]\u001b[38;5;132;01m}\u001b[39;00m\u001b[38;5;124m rows and \u001b[39m\u001b[38;5;132;01m{\u001b[39;00mdf_foodhub\u001b[38;5;241m.\u001b[39mshape[\u001b[38;5;241m1\u001b[39m]\u001b[38;5;132;01m}\u001b[39;00m\u001b[38;5;124m columns\u001b[39m\u001b[38;5;124m'\u001b[39m)\n",
      "\u001b[0;31mNameError\u001b[0m: name 'df_foodhub' is not defined"
     ]
    }
   ],
   "source": [
    "#prints the number of rows and columns\n",
    "\n",
    "print(f'The dataset contains {df_foodhub.shape[0]} rows and {df_foodhub.shape[1]} columns')\n"
   ]
  },
  {
   "cell_type": "markdown",
   "metadata": {
    "id": "UsTNy3unJY_R"
   },
   "source": [
    "#### **Observations:**\n",
    "\n",
    "The dataset has 1898 rows and 9 columns\n"
   ]
  },
  {
   "cell_type": "markdown",
   "metadata": {
    "id": "jRXakVrUJY_R"
   },
   "source": [
    "### **Question 2:** What are the datatypes of the different columns in the dataset? (The info() function can be used)"
   ]
  },
  {
   "cell_type": "code",
   "execution_count": null,
   "metadata": {
    "colab": {
     "base_uri": "https://localhost:8080/"
    },
    "executionInfo": {
     "elapsed": 194,
     "status": "ok",
     "timestamp": 1706904566206,
     "user": {
      "displayName": "Nathan Sickler",
      "userId": "08962164009556034743"
     },
     "user_tz": 360
    },
    "id": "Kp70Z0BNJY_R",
    "outputId": "58f03d81-245e-449a-e3e0-e6bd5482af0f"
   },
   "outputs": [],
   "source": [
    "#returns the data types of the columns\n",
    "df_foodhub.info()"
   ]
  },
  {
   "cell_type": "markdown",
   "metadata": {
    "id": "WJes5GP2JY_S"
   },
   "source": [
    "#### **Observations:**\n",
    "The dataset contains:\n",
    "\n",
    "- 4 columns with the int64 data type (numerical)\n",
    "- 4 columns with the object data type (categorical)\n",
    "- 1 column with the float64 data type (numerical)\n",
    "\n",
    "- Each column contains 1898 records and there are no null values.\n",
    "- Order ID and Customer ID are unique identifiers. We will double check this later to be certain.\n",
    "- The rating column has string datatypes. Generally, we want to transform fiekds with mixed datatypes to avoid processing errors later on.\n",
    "\n"
   ]
  },
  {
   "cell_type": "markdown",
   "metadata": {
    "id": "CNpKD4FaSPAn"
   },
   "source": [
    "#### **Treatment of Ratings:**"
   ]
  },
  {
   "cell_type": "code",
   "execution_count": 7,
   "metadata": {
    "colab": {
     "base_uri": "https://localhost:8080/"
    },
    "executionInfo": {
     "elapsed": 8,
     "status": "ok",
     "timestamp": 1706904566206,
     "user": {
      "displayName": "Nathan Sickler",
      "userId": "08962164009556034743"
     },
     "user_tz": 360
    },
    "id": "CpnYlGPCRxNI",
    "outputId": "e26575dd-8900-4ade-e509-699041580622"
   },
   "outputs": [
    {
     "name": "stdout",
     "output_type": "stream",
     "text": [
      "Not given    736\n",
      "5            588\n",
      "4            386\n",
      "3            188\n",
      "Name: rating, dtype: int64 \n",
      "\n",
      "float64 \n",
      "\n"
     ]
    }
   ],
   "source": [
    "#cast ratings to numerical values\n",
    "\n",
    "#returns unique values counts so we can determine what values exist.\n",
    "print(df_foodhub['rating'].value_counts(), '\\n')\n",
    "\n",
    "#changes 'Not given' to numeric value of 0 and convert to float to match the other columns. casting to nan is another solution\n",
    "df_foodhub['rating'] = df_foodhub['rating'].replace('Not given', 0).astype(np.float64)\n",
    "\n",
    "#verify the change\n",
    "print((df_foodhub['rating'].dtype), '\\n')"
   ]
  },
  {
   "cell_type": "markdown",
   "metadata": {
    "id": "pF_92MN6JY_S"
   },
   "source": [
    "### **Question 3:** Are there any missing values in the data? If yes, treat them using an appropriate method\n",
    "\n",
    "\n",
    "\n"
   ]
  },
  {
   "cell_type": "code",
   "execution_count": 9,
   "metadata": {
    "colab": {
     "base_uri": "https://localhost:8080/"
    },
    "executionInfo": {
     "elapsed": 8,
     "status": "ok",
     "timestamp": 1706904566206,
     "user": {
      "displayName": "Nathan Sickler",
      "userId": "08962164009556034743"
     },
     "user_tz": 360
    },
    "id": "Zth-RR1PJY_S",
    "outputId": "268052a5-f998-482a-ff1a-a98b5d95ee49"
   },
   "outputs": [
    {
     "data": {
      "text/plain": [
       "order_id                 0\n",
       "customer_id              0\n",
       "restaurant_name          0\n",
       "cuisine_type             0\n",
       "cost_of_the_order        0\n",
       "day_of_the_week          0\n",
       "rating                   0\n",
       "food_preparation_time    0\n",
       "delivery_time            0\n",
       "dtype: int64"
      ]
     },
     "execution_count": 9,
     "metadata": {},
     "output_type": "execute_result"
    }
   ],
   "source": [
    "#checks missing values across each columns\n",
    "df_foodhub.isnull().sum()"
   ]
  },
  {
   "cell_type": "markdown",
   "metadata": {
    "id": "jDHT3vD1JY_S"
   },
   "source": [
    "#### **Observations:**\n",
    "- There are 0 null values in the dataset.\n"
   ]
  },
  {
   "cell_type": "markdown",
   "metadata": {
    "id": "MnJo7MWrJY_S"
   },
   "source": [
    "### **Question 4:** Check the statistical summary of the data. What is the minimum, average, and maximum time it takes for food to be prepared once an order is placed?"
   ]
  },
  {
   "cell_type": "code",
   "execution_count": 8,
   "metadata": {
    "colab": {
     "base_uri": "https://localhost:8080/",
     "height": 394
    },
    "executionInfo": {
     "elapsed": 7,
     "status": "ok",
     "timestamp": 1706904566206,
     "user": {
      "displayName": "Nathan Sickler",
      "userId": "08962164009556034743"
     },
     "user_tz": 360
    },
    "id": "WprQBgOSJY_T",
    "outputId": "cb86eadc-fb94-46d3-924c-1eecdf8c2b1a"
   },
   "outputs": [
    {
     "data": {
      "text/html": [
       "<div>\n",
       "<style scoped>\n",
       "    .dataframe tbody tr th:only-of-type {\n",
       "        vertical-align: middle;\n",
       "    }\n",
       "\n",
       "    .dataframe tbody tr th {\n",
       "        vertical-align: top;\n",
       "    }\n",
       "\n",
       "    .dataframe thead th {\n",
       "        text-align: right;\n",
       "    }\n",
       "</style>\n",
       "<table border=\"1\" class=\"dataframe\">\n",
       "  <thead>\n",
       "    <tr style=\"text-align: right;\">\n",
       "      <th></th>\n",
       "      <th>order_id</th>\n",
       "      <th>customer_id</th>\n",
       "      <th>restaurant_name</th>\n",
       "      <th>cuisine_type</th>\n",
       "      <th>cost_of_the_order</th>\n",
       "      <th>day_of_the_week</th>\n",
       "      <th>rating</th>\n",
       "      <th>food_preparation_time</th>\n",
       "      <th>delivery_time</th>\n",
       "    </tr>\n",
       "  </thead>\n",
       "  <tbody>\n",
       "    <tr>\n",
       "      <th>count</th>\n",
       "      <td>1898.00</td>\n",
       "      <td>1898.00</td>\n",
       "      <td>1898</td>\n",
       "      <td>1898</td>\n",
       "      <td>1898.00</td>\n",
       "      <td>1898</td>\n",
       "      <td>1898.00</td>\n",
       "      <td>1898.00</td>\n",
       "      <td>1898.00</td>\n",
       "    </tr>\n",
       "    <tr>\n",
       "      <th>unique</th>\n",
       "      <td>NaN</td>\n",
       "      <td>NaN</td>\n",
       "      <td>178</td>\n",
       "      <td>14</td>\n",
       "      <td>NaN</td>\n",
       "      <td>2</td>\n",
       "      <td>NaN</td>\n",
       "      <td>NaN</td>\n",
       "      <td>NaN</td>\n",
       "    </tr>\n",
       "    <tr>\n",
       "      <th>top</th>\n",
       "      <td>NaN</td>\n",
       "      <td>NaN</td>\n",
       "      <td>Shake Shack</td>\n",
       "      <td>American</td>\n",
       "      <td>NaN</td>\n",
       "      <td>Weekend</td>\n",
       "      <td>NaN</td>\n",
       "      <td>NaN</td>\n",
       "      <td>NaN</td>\n",
       "    </tr>\n",
       "    <tr>\n",
       "      <th>freq</th>\n",
       "      <td>NaN</td>\n",
       "      <td>NaN</td>\n",
       "      <td>219</td>\n",
       "      <td>584</td>\n",
       "      <td>NaN</td>\n",
       "      <td>1351</td>\n",
       "      <td>NaN</td>\n",
       "      <td>NaN</td>\n",
       "      <td>NaN</td>\n",
       "    </tr>\n",
       "    <tr>\n",
       "      <th>mean</th>\n",
       "      <td>1477495.50</td>\n",
       "      <td>171168.48</td>\n",
       "      <td>NaN</td>\n",
       "      <td>NaN</td>\n",
       "      <td>16.50</td>\n",
       "      <td>NaN</td>\n",
       "      <td>2.66</td>\n",
       "      <td>27.37</td>\n",
       "      <td>24.16</td>\n",
       "    </tr>\n",
       "    <tr>\n",
       "      <th>std</th>\n",
       "      <td>548.05</td>\n",
       "      <td>113698.14</td>\n",
       "      <td>NaN</td>\n",
       "      <td>NaN</td>\n",
       "      <td>7.48</td>\n",
       "      <td>NaN</td>\n",
       "      <td>2.20</td>\n",
       "      <td>4.63</td>\n",
       "      <td>4.97</td>\n",
       "    </tr>\n",
       "    <tr>\n",
       "      <th>min</th>\n",
       "      <td>1476547.00</td>\n",
       "      <td>1311.00</td>\n",
       "      <td>NaN</td>\n",
       "      <td>NaN</td>\n",
       "      <td>4.47</td>\n",
       "      <td>NaN</td>\n",
       "      <td>0.00</td>\n",
       "      <td>20.00</td>\n",
       "      <td>15.00</td>\n",
       "    </tr>\n",
       "    <tr>\n",
       "      <th>25%</th>\n",
       "      <td>1477021.25</td>\n",
       "      <td>77787.75</td>\n",
       "      <td>NaN</td>\n",
       "      <td>NaN</td>\n",
       "      <td>12.08</td>\n",
       "      <td>NaN</td>\n",
       "      <td>0.00</td>\n",
       "      <td>23.00</td>\n",
       "      <td>20.00</td>\n",
       "    </tr>\n",
       "    <tr>\n",
       "      <th>50%</th>\n",
       "      <td>1477495.50</td>\n",
       "      <td>128600.00</td>\n",
       "      <td>NaN</td>\n",
       "      <td>NaN</td>\n",
       "      <td>14.14</td>\n",
       "      <td>NaN</td>\n",
       "      <td>4.00</td>\n",
       "      <td>27.00</td>\n",
       "      <td>25.00</td>\n",
       "    </tr>\n",
       "    <tr>\n",
       "      <th>75%</th>\n",
       "      <td>1477969.75</td>\n",
       "      <td>270525.00</td>\n",
       "      <td>NaN</td>\n",
       "      <td>NaN</td>\n",
       "      <td>22.30</td>\n",
       "      <td>NaN</td>\n",
       "      <td>5.00</td>\n",
       "      <td>31.00</td>\n",
       "      <td>28.00</td>\n",
       "    </tr>\n",
       "    <tr>\n",
       "      <th>max</th>\n",
       "      <td>1478444.00</td>\n",
       "      <td>405334.00</td>\n",
       "      <td>NaN</td>\n",
       "      <td>NaN</td>\n",
       "      <td>35.41</td>\n",
       "      <td>NaN</td>\n",
       "      <td>5.00</td>\n",
       "      <td>35.00</td>\n",
       "      <td>33.00</td>\n",
       "    </tr>\n",
       "  </tbody>\n",
       "</table>\n",
       "</div>"
      ],
      "text/plain": [
       "         order_id  customer_id restaurant_name cuisine_type  \\\n",
       "count     1898.00      1898.00            1898         1898   \n",
       "unique        NaN          NaN             178           14   \n",
       "top           NaN          NaN     Shake Shack     American   \n",
       "freq          NaN          NaN             219          584   \n",
       "mean   1477495.50    171168.48             NaN          NaN   \n",
       "std        548.05    113698.14             NaN          NaN   \n",
       "min    1476547.00      1311.00             NaN          NaN   \n",
       "25%    1477021.25     77787.75             NaN          NaN   \n",
       "50%    1477495.50    128600.00             NaN          NaN   \n",
       "75%    1477969.75    270525.00             NaN          NaN   \n",
       "max    1478444.00    405334.00             NaN          NaN   \n",
       "\n",
       "        cost_of_the_order day_of_the_week  rating  food_preparation_time  \\\n",
       "count             1898.00            1898 1898.00                1898.00   \n",
       "unique                NaN               2     NaN                    NaN   \n",
       "top                   NaN         Weekend     NaN                    NaN   \n",
       "freq                  NaN            1351     NaN                    NaN   \n",
       "mean                16.50             NaN    2.66                  27.37   \n",
       "std                  7.48             NaN    2.20                   4.63   \n",
       "min                  4.47             NaN    0.00                  20.00   \n",
       "25%                 12.08             NaN    0.00                  23.00   \n",
       "50%                 14.14             NaN    4.00                  27.00   \n",
       "75%                 22.30             NaN    5.00                  31.00   \n",
       "max                 35.41             NaN    5.00                  35.00   \n",
       "\n",
       "        delivery_time  \n",
       "count         1898.00  \n",
       "unique            NaN  \n",
       "top               NaN  \n",
       "freq              NaN  \n",
       "mean            24.16  \n",
       "std              4.97  \n",
       "min             15.00  \n",
       "25%             20.00  \n",
       "50%             25.00  \n",
       "75%             28.00  \n",
       "max             33.00  "
      ]
     },
     "execution_count": 8,
     "metadata": {},
     "output_type": "execute_result"
    }
   ],
   "source": [
    "#lets first use describe() to return a summary statistics for numerical columns.\n",
    "#this will give us a sense of the distribution of features in each column and the  .\n",
    "df_foodhub.describe(include='all')"
   ]
  },
  {
   "cell_type": "code",
   "execution_count": null,
   "metadata": {
    "colab": {
     "base_uri": "https://localhost:8080/"
    },
    "executionInfo": {
     "elapsed": 6,
     "status": "ok",
     "timestamp": 1706904566206,
     "user": {
      "displayName": "Nathan Sickler",
      "userId": "08962164009556034743"
     },
     "user_tz": 360
    },
    "id": "ZV6MC4LGUFd3",
    "outputId": "a9d87261-5895-4fb0-8db1-cec31efec113"
   },
   "outputs": [],
   "source": [
    "#print statistical summary, min, max, mean for food_preparation_time\n",
    "def print_prep_time_stats(dataframe):\n",
    "\n",
    "  stat_summary = df_foodhub['food_preparation_time'].describe()\n",
    "  min_time = dataframe['food_preparation_time'].min()\n",
    "  avg_time = round(dataframe['food_preparation_time'].mean(), 2)\n",
    "  max_time = dataframe['food_preparation_time'].max()\n",
    "\n",
    "  print('Summary:','\\n',stat_summary, '\\n')\n",
    "  print('Minimum:', min_time)\n",
    "  print('Average:', avg_time)\n",
    "  print('Maximum:', max_time)\n",
    "\n",
    "print_prep_time_stats(df_foodhub)"
   ]
  },
  {
   "cell_type": "markdown",
   "metadata": {
    "id": "tP3apYdoTWK0"
   },
   "source": [
    "#### **Observations:**\n",
    "- Once an order has been submitted food preparation time ranges from 20 to 35 minutes.\n",
    "\n",
    "- The average delivery time is 24.16 minutes.\n",
    "\n",
    "- A standard deviation of 4.63 minutes indicates consistency.\n",
    "\n",
    "- Variations are to be expected as different meals require different inputs and prep times.\n",
    "\n"
   ]
  },
  {
   "cell_type": "markdown",
   "metadata": {
    "id": "cw3l58z_JY_T"
   },
   "source": [
    "### **Question 5:** How many orders are not rated?"
   ]
  },
  {
   "cell_type": "code",
   "execution_count": null,
   "metadata": {
    "colab": {
     "base_uri": "https://localhost:8080/"
    },
    "executionInfo": {
     "elapsed": 5,
     "status": "ok",
     "timestamp": 1706904566206,
     "user": {
      "displayName": "Nathan Sickler",
      "userId": "08962164009556034743"
     },
     "user_tz": 360
    },
    "id": "-0vRqFZL1rCT",
    "outputId": "c3527b86-5ffc-4656-84e8-9d4c7d39055f"
   },
   "outputs": [],
   "source": [
    "#returns the total count of non-rated orders\n",
    "print(f\"Non-rated: {len(df_foodhub[df_foodhub['rating'] == 0])}\")"
   ]
  },
  {
   "cell_type": "markdown",
   "metadata": {
    "id": "5E0O_oviJY_T"
   },
   "source": [
    "#### **Observations:**\n",
    "- There are a total of 736 orders where a rating was not given.\n"
   ]
  },
  {
   "cell_type": "markdown",
   "metadata": {
    "id": "7msIfXE-JY_T"
   },
   "source": [
    "# **Exploratory Data Analysis (EDA)**"
   ]
  },
  {
   "cell_type": "markdown",
   "metadata": {
    "id": "-2xfI28YJY_T"
   },
   "source": [
    "## **Univariate Analysis**"
   ]
  },
  {
   "cell_type": "markdown",
   "metadata": {
    "id": "0RHZnugBJY_U"
   },
   "source": [
    "### **Question 6:** Explore all the variables and provide Observations for their distributions. (Generally, histograms, boxplots, countplots, etc. are used for univariate exploration.)"
   ]
  },
  {
   "cell_type": "markdown",
   "metadata": {
    "id": "AB2FVCH6gedH"
   },
   "source": [
    "#### **Cost of The Order**\n",
    "\n"
   ]
  },
  {
   "cell_type": "code",
   "execution_count": null,
   "metadata": {
    "colab": {
     "base_uri": "https://localhost:8080/",
     "height": 1000
    },
    "executionInfo": {
     "elapsed": 1041,
     "status": "ok",
     "timestamp": 1706904567243,
     "user": {
      "displayName": "Nathan Sickler",
      "userId": "08962164009556034743"
     },
     "user_tz": 360
    },
    "id": "2pk-qe0ueSNP",
    "outputId": "b2a36982-7d6a-4264-dc2d-8767226cd34e"
   },
   "outputs": [],
   "source": [
    "#histogram\n",
    "sns.histplot(df_foodhub['cost_of_the_order'], kde=True, color='blue')\n",
    "plt.title('Distribution of Order Cost')\n",
    "plt.xlabel('Order Cost ($)')\n",
    "plt.ylabel('Frequency')\n",
    "plt.xticks(np.arange(2, 38, step=2))\n",
    "plt.tight_layout()\n",
    "plt.show()\n",
    "\n",
    "#boxplot\n",
    "sns.boxplot(x=df_foodhub['cost_of_the_order'], color='cornflowerblue')\n",
    "plt.xlabel('Order Cost ($)')\n",
    "plt.xticks(np.arange(2, 38, step=2))\n",
    "plt.tight_layout()\n",
    "plt.show()\n"
   ]
  },
  {
   "cell_type": "markdown",
   "metadata": {
    "id": "ILrsBDYAlgf2"
   },
   "source": [
    "##### **Observations for Cost of Order**\n",
    "\n",
    "**Hist Plot:**\n",
    "- The histplot shows us a wide distribution of order cost.\n",
    "- The data set is slightly right-skewed, with most orders being in the lower end of the price range between 10 to 15 dollars.\n",
    "- This suggests that the majority of orders are for lower cost, smaller meals, sinlge individuals, or there is a common pricing strategy among the restaurants.\n",
    "\n",
    "**Box Plot:**\n",
    "- The whiskers on the boxplot confirms a wide distribution of order cost.   \n",
    "- The distribution of order cost is right-skewed with a median around $14.\n",
    "- There appears to be some outliers on the higher end indicating hihger-end or premium items.\n",
    "\n"
   ]
  },
  {
   "cell_type": "markdown",
   "metadata": {
    "id": "bpnYH3R7w2lR"
   },
   "source": [
    "#### **Food Preparation Time**"
   ]
  },
  {
   "cell_type": "code",
   "execution_count": null,
   "metadata": {
    "colab": {
     "base_uri": "https://localhost:8080/",
     "height": 1000
    },
    "executionInfo": {
     "elapsed": 476,
     "status": "ok",
     "timestamp": 1706904567718,
     "user": {
      "displayName": "Nathan Sickler",
      "userId": "08962164009556034743"
     },
     "user_tz": 360
    },
    "id": "J3CI6c9deSJn",
    "outputId": "51155cc7-c735-4d5b-db75-95893c5a6215"
   },
   "outputs": [],
   "source": [
    "#food preperation time\n",
    "\n",
    "#histplot\n",
    "\n",
    "sns.histplot(df_foodhub['food_preparation_time'], kde=True, color='purple')\n",
    "plt.title('Distribution of Food Preparation Time')\n",
    "plt.xlabel('Food Preperation Time')\n",
    "plt.ylabel('Frequency')\n",
    "plt.xticks(np.arange(20, 37, step=2))\n",
    "plt.tight_layout()\n",
    "plt.show()\n",
    "\n",
    "\n",
    "#boxplot\n",
    "sns.boxplot(data=df_foodhub, x='food_preparation_time', color='plum')\n",
    "plt.xlabel('Food Preparation Time')\n",
    "plt.ylabel('Box Plot')\n",
    "plt.xticks(np.arange(20, 37, step=2))\n",
    "plt.tight_layout()\n",
    "plt.show()\n"
   ]
  },
  {
   "cell_type": "markdown",
   "metadata": {
    "id": "QenERNOeiCbb"
   },
   "source": [
    "##### **Observations for Food Prep Time**\n",
    "\n",
    "**Hist Plot:**\n",
    "- The histplot shows a relatively uniform distribution of food preparation time between 22 and 34 minutes.\n",
    "- Many of the bins also have roughly the same frequency indicating there is a consistent range for food preperation time with little variation.\n",
    "\n",
    "**Box Plot:**\n",
    "- The boxplot reveals a median food preperation time of ~27 minutes while confirming a uniform distribution\n",
    "- There doesn't appear to be any visible outliers.\n"
   ]
  },
  {
   "cell_type": "markdown",
   "metadata": {
    "id": "HnkkktuXxcxX"
   },
   "source": [
    "#### **Delivery Time**"
   ]
  },
  {
   "cell_type": "code",
   "execution_count": null,
   "metadata": {
    "colab": {
     "base_uri": "https://localhost:8080/",
     "height": 1000
    },
    "executionInfo": {
     "elapsed": 752,
     "status": "ok",
     "timestamp": 1706904568467,
     "user": {
      "displayName": "Nathan Sickler",
      "userId": "08962164009556034743"
     },
     "user_tz": 360
    },
    "id": "LIjfENpWeSGD",
    "outputId": "012817a3-1fc2-4520-f8fc-eed86dabfd40"
   },
   "outputs": [],
   "source": [
    "#delivery time\n",
    "\n",
    "#histplot\n",
    "\n",
    "sns.histplot(df_foodhub['delivery_time'], kde=True, color='orange')\n",
    "plt.title('Distribution of Delivery Time')\n",
    "plt.xticks(np.arange(15, 37, step=2))\n",
    "plt.tight_layout()\n",
    "plt.show()\n",
    "\n",
    "#boxplot\n",
    "\n",
    "sns.boxplot(x=df_foodhub['delivery_time'], color='moccasin')\n",
    "plt.title('Delivery Time')\n",
    "plt.xticks(np.arange(15, 37, step=2))\n",
    "plt.tight_layout()\n",
    "plt.show()"
   ]
  },
  {
   "cell_type": "markdown",
   "metadata": {
    "id": "9j0EisCFiDBZ"
   },
   "source": [
    "##### **Observations for Delivery Time**\n",
    "\n",
    "**Hist Plot:**\n",
    "- The histplot indicates that a majority of the orders take between 22 and 28 minutes to be delivered.\n",
    "- The distribution suggests a degree of consistency and efficient in delivery times.\n",
    "\n",
    "**Box Plot:**\n",
    "- The boxplot indicates a median delivery time of 25 minutes.\n",
    "- No significant outliers are visible confirming what we see on the histogram. Insicating slow delivery times are minimal."
   ]
  },
  {
   "cell_type": "markdown",
   "metadata": {
    "id": "Tx3LWH1ixs0Q"
   },
   "source": [
    "#### **Day of the Week**"
   ]
  },
  {
   "cell_type": "code",
   "execution_count": null,
   "metadata": {
    "colab": {
     "base_uri": "https://localhost:8080/",
     "height": 807
    },
    "executionInfo": {
     "elapsed": 460,
     "status": "ok",
     "timestamp": 1706904703105,
     "user": {
      "displayName": "Nathan Sickler",
      "userId": "08962164009556034743"
     },
     "user_tz": 360
    },
    "id": "hNvGMWpreRnV",
    "outputId": "60baf021-ac9a-42b4-a64d-33dc48ede683"
   },
   "outputs": [],
   "source": [
    "#day of the week\n",
    "plt.figure(figsize=(10, 8))\n",
    "ax = sns.countplot(x='day_of_the_week', data=df_foodhub, order=['Weekday', 'Weekend'], hue='day_of_the_week', palette='plasma')\n",
    "plt.title('Distribution of Order by Weekday vs Weekend')\n",
    "plt.xlabel('Part of Week')\n",
    "plt.ylabel('Order Count')\n",
    "plt.ylim(0, 1.2* df_foodhub['day_of_the_week'].value_counts().max())\n",
    "plt.tight_layout()\n",
    "for p in ax.patches:\n",
    "    ax.annotate(format(p.get_height(), '.0f'), (p.get_x() + p.get_width() / 2., p.get_height()), ha = 'center', va = 'center', xytext = (0, 10), textcoords = 'offset points')\n",
    "plt.show()"
   ]
  },
  {
   "cell_type": "markdown",
   "metadata": {
    "id": "iqZAgR7LSjME"
   },
   "source": [
    "##### **Observations for Day of Week**\n",
    "- The distribution between \"Weekday\" and \"Weekend\" shows that there is significant higher demand on the weekend than weekdays.\n",
    "\n",
    "- This suggest consumers are more likely to order when they are off work or not in school.\n",
    "\n",
    "- The increased volume on the weekends may indicate the need for more staff."
   ]
  },
  {
   "cell_type": "markdown",
   "metadata": {
    "id": "2jYXFeYJmssw"
   },
   "source": [
    "#### **Restaurant Names**"
   ]
  },
  {
   "cell_type": "code",
   "execution_count": null,
   "metadata": {
    "colab": {
     "base_uri": "https://localhost:8080/",
     "height": 807
    },
    "executionInfo": {
     "elapsed": 489,
     "status": "ok",
     "timestamp": 1706904569382,
     "user": {
      "displayName": "Nathan Sickler",
      "userId": "08962164009556034743"
     },
     "user_tz": 360
    },
    "id": "2VdbDI6PIVNC",
    "outputId": "7485c972-b00a-4c03-ce2c-caec230ac581"
   },
   "outputs": [],
   "source": [
    "#restaurant names\n",
    "\n",
    "#choose the number of observations to plot\n",
    "N=10\n",
    "\n",
    "#gets frequencies\n",
    "restaurant_cnts = df_foodhub['restaurant_name'].value_counts().head(N)\n",
    "\n",
    "plt.figure(figsize=(10, 8))\n",
    "ax = sns.barplot(x=restaurant_cnts.values, y=restaurant_cnts.index, hue=restaurant_cnts.index, palette='plasma', legend=False)\n",
    "plt.title(f\"Top {N} Restaurants\")\n",
    "plt.xlabel('Number of Orders')\n",
    "plt.ylabel('Restaurant Name')\n",
    "plt.tight_layout()\n",
    "plt.show()\n"
   ]
  },
  {
   "cell_type": "markdown",
   "metadata": {
    "id": "ryWKYUcvHJUg"
   },
   "source": [
    "##### **Observations for Restaurant**\n",
    "- A few of the most popular restaurants are a clear choice among consumers. This indicates there are prominent leaders may have a competitive advantage of some sort leading to the volume of the orders. Remaining committed to these establishments is important as it can be deduced that they make up the bulk of fee based revenue."
   ]
  },
  {
   "cell_type": "markdown",
   "metadata": {
    "id": "_f1Sl2lbxy1S"
   },
   "source": [
    "#### **Cuisine Types**"
   ]
  },
  {
   "cell_type": "code",
   "execution_count": null,
   "metadata": {
    "colab": {
     "base_uri": "https://localhost:8080/",
     "height": 807
    },
    "executionInfo": {
     "elapsed": 583,
     "status": "ok",
     "timestamp": 1706904569962,
     "user": {
      "displayName": "Nathan Sickler",
      "userId": "08962164009556034743"
     },
     "user_tz": 360
    },
    "id": "w1ugY4qGwokL",
    "outputId": "4fc1b135-5535-4a31-9957-72994858f453"
   },
   "outputs": [],
   "source": [
    "#cuisine types\n",
    "\n",
    "#choose the number of observations to plot\n",
    "N=10\n",
    "\n",
    "#gets frequencies\n",
    "cuisines_cnts = df_foodhub['cuisine_type'].value_counts().head(N)\n",
    "\n",
    "plt.figure(figsize=(10, 8))\n",
    "ax = sns.barplot(x=cuisines_cnts.values, y=cuisines_cnts.index, hue=cuisines_cnts.index, palette='plasma',legend=False)\n",
    "plt.title(f'Top {N} Most Popular Cuisine Types')\n",
    "plt.xlabel('Number of Orders')\n",
    "plt.ylabel('Cuisine Type')\n",
    "plt.tight_layout()\n",
    "plt.show()\n"
   ]
  },
  {
   "cell_type": "markdown",
   "metadata": {
    "id": "h8CbpMe7ms57"
   },
   "source": [
    "##### **Observations for Cuisine Type**\n",
    "- American cuisine is the most popular cuisine type, followed by Japanese and Italian.\n",
    "- The least popular cuisine type is Vietnamese."
   ]
  },
  {
   "cell_type": "markdown",
   "metadata": {
    "id": "TamAjUMWx24B"
   },
   "source": [
    "#### **Orders vs Ratings**"
   ]
  },
  {
   "cell_type": "code",
   "execution_count": null,
   "metadata": {
    "colab": {
     "base_uri": "https://localhost:8080/",
     "height": 807
    },
    "executionInfo": {
     "elapsed": 262,
     "status": "ok",
     "timestamp": 1706904570222,
     "user": {
      "displayName": "Nathan Sickler",
      "userId": "08962164009556034743"
     },
     "user_tz": 360
    },
    "id": "V1WM09RVmsyw",
    "outputId": "24e80eb2-ccef-418c-849e-63bd3c40fbeb"
   },
   "outputs": [],
   "source": [
    "#ratings\n",
    "\n",
    "#gets frequencies\n",
    "ratings_cnt = df_foodhub['rating'].value_counts()\n",
    "\n",
    "plt.figure(figsize=(10, 8))\n",
    "ax = sns.barplot(x=ratings_cnt.index, y=ratings_cnt.values, hue=ratings_cnt.values, palette='plasma', legend=False)\n",
    "plt.title(f'Count of Order Ratings')\n",
    "plt.xlabel('Ratings')\n",
    "plt.ylabel('Count')\n",
    "plt.tight_layout()\n",
    "for p in ax.patches:\n",
    "    ax.annotate(format(p.get_height(), '.0f'), (p.get_x() + p.get_width() / 2., p.get_height()), ha = 'center', va = 'center', xytext = (0, 8), textcoords = 'offset points')\n",
    "plt.show()\n",
    "\n",
    "\n",
    "\n"
   ]
  },
  {
   "cell_type": "markdown",
   "metadata": {
    "id": "75Ha-80fGwt2"
   },
   "source": [
    "##### **Observations for Rating**\n",
    "\n",
    "- A significant number of orders did not receive a rating.\n",
    "- There is a large number of high ratings which indicates customers are satisfied with the food and service received."
   ]
  },
  {
   "cell_type": "markdown",
   "metadata": {
    "id": "K9CqA5H_JY_U"
   },
   "source": [
    "### **Question 7**: Which are the top 5 restaurants in terms of the number of orders received?"
   ]
  },
  {
   "cell_type": "code",
   "execution_count": null,
   "metadata": {
    "colab": {
     "base_uri": "https://localhost:8080/",
     "height": 206
    },
    "executionInfo": {
     "elapsed": 14,
     "status": "ok",
     "timestamp": 1706904570222,
     "user": {
      "displayName": "Nathan Sickler",
      "userId": "08962164009556034743"
     },
     "user_tz": 360
    },
    "id": "PaJZ3wlOJY_U",
    "outputId": "e3ef8b5e-2bea-4ee4-faeb-4d5c2f2ba80e"
   },
   "outputs": [],
   "source": [
    "df_foodhub['restaurant_name'].value_counts().reset_index().head(5)"
   ]
  },
  {
   "cell_type": "markdown",
   "metadata": {
    "id": "tnjhWgUfJY_U"
   },
   "source": [
    "##### **Observations:**\n",
    "- Shake Shack tops the list of restaurants with 219 orders. Following are The Meatball Shop with 132 orders, Blue Ribbon Sushi with 119 orders, Blue Ribbon Fried Chicken with 96 orders, and Parm with 68 orders."
   ]
  },
  {
   "cell_type": "markdown",
   "metadata": {
    "id": "gWPMqGq0JY_U"
   },
   "source": [
    "### **Question 8**: Which is the most popular cuisine on weekends?"
   ]
  },
  {
   "cell_type": "code",
   "execution_count": null,
   "metadata": {
    "colab": {
     "base_uri": "https://localhost:8080/"
    },
    "executionInfo": {
     "elapsed": 13,
     "status": "ok",
     "timestamp": 1706904570222,
     "user": {
      "displayName": "Nathan Sickler",
      "userId": "08962164009556034743"
     },
     "user_tz": 360
    },
    "id": "c-Xnus3VJY_U",
    "outputId": "4f956994-2391-495a-aa29-6626cd428f6b"
   },
   "outputs": [],
   "source": [
    "df_foodhub[df_foodhub['day_of_the_week'] == 'Weekend']['cuisine_type'].value_counts().reset_index().head(1)"
   ]
  },
  {
   "cell_type": "markdown",
   "metadata": {
    "id": "bpQ270TUJY_U"
   },
   "source": [
    "##### **Observations:**\n",
    "- American cuisine is the most popular weekend choice with a count of 415"
   ]
  },
  {
   "cell_type": "markdown",
   "metadata": {
    "id": "88xgTqkxJY_U"
   },
   "source": [
    "### **Question 9**: What percentage of the orders cost more than 20 dollars?"
   ]
  },
  {
   "cell_type": "code",
   "execution_count": null,
   "metadata": {
    "colab": {
     "base_uri": "https://localhost:8080/"
    },
    "executionInfo": {
     "elapsed": 12,
     "status": "ok",
     "timestamp": 1706904570222,
     "user": {
      "displayName": "Nathan Sickler",
      "userId": "08962164009556034743"
     },
     "user_tz": 360
    },
    "id": "OTpHyTdzJY_U",
    "outputId": "464231cd-9066-4e5b-d90a-53facecf048b"
   },
   "outputs": [],
   "source": [
    "#returns Total Orders\n",
    "ttl_observations = len(df_foodhub)\n",
    "\n",
    "#returns records greater than $20\n",
    "ttl_greater_20 = len(df_foodhub[df_foodhub['cost_of_the_order'] > 20])\n",
    "\n",
    "#returns percent of orders > $20\n",
    "percent_orders_greater_20 = round((ttl_greater_20 / ttl_observations) * 100, 2)\n",
    "\n",
    "print(str(percent_orders_greater_20) + '%')\n"
   ]
  },
  {
   "cell_type": "markdown",
   "metadata": {
    "id": "77KNAC5zJY_U"
   },
   "source": [
    "##### **Observations:**\n",
    "- Orders costing more than $20 represents 29.24% of total orders."
   ]
  },
  {
   "cell_type": "markdown",
   "metadata": {
    "id": "HFyHn7hsJY_V"
   },
   "source": [
    "### **Question 10**: What is the mean order delivery time?"
   ]
  },
  {
   "cell_type": "code",
   "execution_count": null,
   "metadata": {
    "colab": {
     "base_uri": "https://localhost:8080/"
    },
    "executionInfo": {
     "elapsed": 11,
     "status": "ok",
     "timestamp": 1706904570222,
     "user": {
      "displayName": "Nathan Sickler",
      "userId": "08962164009556034743"
     },
     "user_tz": 360
    },
    "id": "cyFL13hNJY_V",
    "outputId": "43aec9c6-da69-4066-edac-86203cdce7d3"
   },
   "outputs": [],
   "source": [
    "df_foodhub['delivery_time'].mean().round(2)"
   ]
  },
  {
   "cell_type": "markdown",
   "metadata": {
    "id": "F35SRV-HJY_V"
   },
   "source": [
    "#### **Observations:**\n",
    "- The average delivery time for prepared orders is 24.16 minutes.\n"
   ]
  },
  {
   "cell_type": "markdown",
   "metadata": {
    "id": "48IjaOuDJY_V"
   },
   "source": [
    "### **Question 11:** The company has decided to give 20% discount vouchers to the top 3 most frequent customers. Find the IDs of these customers and the number of orders they placed."
   ]
  },
  {
   "cell_type": "code",
   "execution_count": null,
   "metadata": {
    "colab": {
     "base_uri": "https://localhost:8080/",
     "height": 143
    },
    "executionInfo": {
     "elapsed": 10,
     "status": "ok",
     "timestamp": 1706904570222,
     "user": {
      "displayName": "Nathan Sickler",
      "userId": "08962164009556034743"
     },
     "user_tz": 360
    },
    "id": "kWVBCYlY1rCf",
    "outputId": "5dfe760d-ad9b-48f8-dcda-4d92fc85952c"
   },
   "outputs": [],
   "source": [
    "# Top 3 Customers\n",
    "\n",
    "#groups sorts and renames the column header to a more descriptive name\n",
    "df_foodhub.groupby('customer_id')['order_id'].size().sort_values(ascending=False).to_frame().rename(columns={'order_id': 'order_cnt'}).reset_index().head(3)"
   ]
  },
  {
   "cell_type": "markdown",
   "metadata": {
    "id": "9tWVwfX6JY_V"
   },
   "source": [
    "##### **Observations:**\n",
    "- The customer_id: 52832 is the most frequent customer, having placed 13 orders.\n",
    "\n",
    "- The customer_id: 47440 is the second most frequent customer, with 10 orders.\n",
    "\n",
    "- The customer_id: 83287 is the third most frequent customer, having placed 9 orders.\n"
   ]
  },
  {
   "cell_type": "markdown",
   "metadata": {
    "id": "AfIc2jPaJY_V"
   },
   "source": [
    "# **Multivariate Analysis**"
   ]
  },
  {
   "cell_type": "markdown",
   "metadata": {
    "id": "iqiS0RT_JY_V"
   },
   "source": [
    "### **Question 12**: Perform a multivariate analysis to explore relationships between the important variables in the dataset. (It is a good idea to explore relations between numerical variables as well as relations between numerical and categorical variables)"
   ]
  },
  {
   "cell_type": "markdown",
   "metadata": {
    "id": "Z_VLmx3KqWBC"
   },
   "source": [
    "#### **Pairplot**"
   ]
  },
  {
   "cell_type": "code",
   "execution_count": null,
   "metadata": {
    "colab": {
     "base_uri": "https://localhost:8080/",
     "height": 1000
    },
    "executionInfo": {
     "elapsed": 5055,
     "status": "ok",
     "timestamp": 1706904575268,
     "user": {
      "displayName": "Nathan Sickler",
      "userId": "08962164009556034743"
     },
     "user_tz": 360
    },
    "id": "myKhnyRlrUlQ",
    "outputId": "2274fb80-5926-4384-ba8e-1aab97146407"
   },
   "outputs": [],
   "source": [
    "#pairplot\n",
    "#selects numeric coluns and drop unique identfiers not needed for analysis\n",
    "numeric_column_list = df_foodhub.select_dtypes(include=['float', 'int']).drop(columns=['order_id', 'customer_id'])\n",
    "\n",
    "sns.pairplot(df_foodhub, vars=numeric_column_list, diag_kind='kde')\n",
    "plt.show()"
   ]
  },
  {
   "cell_type": "markdown",
   "metadata": {
    "id": "h3NQ1iPT3N9G"
   },
   "source": [
    "#### **Correlation Heatmap**"
   ]
  },
  {
   "cell_type": "code",
   "execution_count": null,
   "metadata": {
    "colab": {
     "base_uri": "https://localhost:8080/",
     "height": 682
    },
    "executionInfo": {
     "elapsed": 246,
     "status": "ok",
     "timestamp": 1706904575508,
     "user": {
      "displayName": "Nathan Sickler",
      "userId": "08962164009556034743"
     },
     "user_tz": 360
    },
    "id": "3qt4MCNTJY_V",
    "outputId": "ab7edcb0-179e-4da5-f4b3-cc5d425d648f"
   },
   "outputs": [],
   "source": [
    "#correlation analysis\n",
    "\n",
    "#selects numeric coluns and drop unique identfiers not needed for analysis\n",
    "numeric_column_list = df_foodhub.select_dtypes(include=['float', 'int']).drop(columns=['order_id', 'customer_id'])\n",
    "\n",
    "plt.figure(figsize=(10, 8))\n",
    "plt.tight_layout()\n",
    "sns.heatmap(numeric_column_list.corr(), annot=True, vmin=-1, vmax=1, cmap='coolwarm')\n",
    "plt.show()\n",
    "\n"
   ]
  },
  {
   "cell_type": "markdown",
   "metadata": {
    "id": "nRX7eKHe1rCg"
   },
   "source": [
    "##### **Observations:**\n",
    "- The heatmap shows low correlation among the values."
   ]
  },
  {
   "cell_type": "markdown",
   "metadata": {
    "id": "TF3Efm_u1rCg"
   },
   "source": [
    "#### **Cuisine Cost Distribution**\n",
    "\n"
   ]
  },
  {
   "cell_type": "code",
   "execution_count": null,
   "metadata": {
    "colab": {
     "base_uri": "https://localhost:8080/",
     "height": 807
    },
    "executionInfo": {
     "elapsed": 1000,
     "status": "ok",
     "timestamp": 1706904576506,
     "user": {
      "displayName": "Nathan Sickler",
      "userId": "08962164009556034743"
     },
     "user_tz": 360
    },
    "id": "5JmErl8Q2DVp",
    "outputId": "44798060-e958-4111-c216-397e3b26b85c"
   },
   "outputs": [],
   "source": [
    "# creates a boxplot for each cuisine type to analyze the cost distribution.\n",
    "plt.figure(figsize=(10, 8))\n",
    "sns.boxplot(x='cost_of_the_order', y='cuisine_type', data=df_foodhub, hue='cuisine_type', palette='Set2')\n",
    "plt.title('Cost Distribution per Cuisine')\n",
    "plt.xlabel('Cost')\n",
    "plt.ylabel('Cuisine')\n",
    "plt.tight_layout()\n",
    "plt.show()"
   ]
  },
  {
   "cell_type": "markdown",
   "metadata": {
    "id": "7_o8CUGb_KeC"
   },
   "source": [
    "##### **Observations:**\n",
    "- The boxplot indicates a high variability of costs across cuisines. This is expected as many menus have standard and premiumn items.\n",
    "\n",
    "- Korean and Vietnamese cuisines appear to be budget friendly options.\n",
    "\n",
    "- Italian, American, Chinese, and Japanese cuisines show similar cost distributions, suggesting comparable price ranges."
   ]
  },
  {
   "cell_type": "markdown",
   "metadata": {
    "id": "jMcLfDAQ9sTd"
   },
   "source": [
    "#### **Cuisine Demand - Weekday vs Weekend**"
   ]
  },
  {
   "cell_type": "code",
   "execution_count": null,
   "metadata": {
    "colab": {
     "base_uri": "https://localhost:8080/",
     "height": 807
    },
    "executionInfo": {
     "elapsed": 1411,
     "status": "ok",
     "timestamp": 1706904577916,
     "user": {
      "displayName": "Nathan Sickler",
      "userId": "08962164009556034743"
     },
     "user_tz": 360
    },
    "id": "vhsSN-wy9sNH",
    "outputId": "6226f8b0-37f0-4756-dcd9-d6f726518ea5"
   },
   "outputs": [],
   "source": [
    "plt.figure(figsize=(10, 8))\n",
    "sns.countplot(y='cuisine_type', hue='day_of_the_week', data=df_foodhub, palette='Set2',\n",
    "              order=df_foodhub['cuisine_type'].value_counts().index)\n",
    "plt.title('Cuisine Demand - Weekday vs Weekend')\n",
    "plt.xlabel('Number of Orders')\n",
    "plt.ylabel('Cuisine Type')\n",
    "plt.legend(title='Day of the Week')\n",
    "plt.tight_layout()\n",
    "plt.show()"
   ]
  },
  {
   "cell_type": "markdown",
   "metadata": {
    "id": "9bEb1x4v9sGz"
   },
   "source": [
    "##### **Observations:**\n",
    "- There is an obvious increase in demand on the weekends.\n",
    "- Demand across all cuisines appears to be double that of the weekdays.\n",
    "- Demand is also stable across all cusines on a day to day basis."
   ]
  },
  {
   "cell_type": "markdown",
   "metadata": {
    "id": "A6BJj0AS_Nj7"
   },
   "source": [
    "#### **Cuisine Ratings**\n"
   ]
  },
  {
   "cell_type": "code",
   "execution_count": null,
   "metadata": {
    "colab": {
     "base_uri": "https://localhost:8080/",
     "height": 807
    },
    "executionInfo": {
     "elapsed": 1601,
     "status": "ok",
     "timestamp": 1706904579514,
     "user": {
      "displayName": "Nathan Sickler",
      "userId": "08962164009556034743"
     },
     "user_tz": 360
    },
    "id": "iOu5EIhq9r_p",
    "outputId": "17279437-3f50-4a7b-c9db-7ce8f7ef7ef6"
   },
   "outputs": [],
   "source": [
    "plt.figure(figsize=(10, 8))\n",
    "sns.countplot(y='cuisine_type', hue='rating', data=df_foodhub, palette='Set3',\n",
    "              order=df_foodhub['cuisine_type'].value_counts().index)\n",
    "plt.title('Rating by Cuisine')\n",
    "plt.xlabel('Number of Orders')\n",
    "plt.ylabel('Cuisine Type')\n",
    "plt.legend(title='Rating')\n",
    "plt.tight_layout()\n",
    "plt.show()"
   ]
  },
  {
   "cell_type": "markdown",
   "metadata": {
    "id": "8hwuWsIo9r5N"
   },
   "source": [
    "##### **Observations:**\n",
    "- Cusines with the highest ratings are also the most popular.\n",
    "- Less popular restaurants have fewer rating.\n",
    "- Rating variability appears to be consistent across cuisines."
   ]
  },
  {
   "cell_type": "markdown",
   "metadata": {
    "id": "0x0l2i_T5K2j"
   },
   "source": [
    "#### **Rating Correlations**\n"
   ]
  },
  {
   "cell_type": "code",
   "execution_count": null,
   "metadata": {
    "colab": {
     "base_uri": "https://localhost:8080/",
     "height": 1000
    },
    "executionInfo": {
     "elapsed": 1490,
     "status": "ok",
     "timestamp": 1706904581001,
     "user": {
      "displayName": "Nathan Sickler",
      "userId": "08962164009556034743"
     },
     "user_tz": 360
    },
    "id": "8qMsMq8Y5L-O",
    "outputId": "c4fc8603-71e8-47da-8aa6-6492a84232c9"
   },
   "outputs": [],
   "source": [
    "#plots 2x2 plot comparing ratings to time and cost\n",
    "def plot_rating_insights(df, x, palette='plasma', legend=False):\n",
    "\n",
    "    #calculate total time taken for food preparation and delivery\n",
    "    df['total_time_taken'] = df['food_preparation_time'] + df['delivery_time']\n",
    "\n",
    "    # multi-panel visualization\n",
    "    fig, axes = plt.subplots(2, 2, figsize=(14, 10))\n",
    "\n",
    "    # rating vs food prep time\n",
    "    sns.boxplot(x=x, y='food_preparation_time', data=df, ax=axes[0, 0], hue=x, palette=palette, legend=legend)\n",
    "    axes[0, 0].set_title('Rating vs Food Prep Time')\n",
    "\n",
    "    # rating vs delivery time\n",
    "    sns.boxplot(x=x, y='delivery_time', data=df, ax=axes[0, 1], hue=x, palette=palette, legend=legend)\n",
    "    axes[0, 1].set_title('Rating vs Delivery Time')\n",
    "\n",
    "    # rating vs time\n",
    "    sns.boxplot(x=x, y='total_time_taken', data=df, ax=axes[1, 0], hue=x, palette=palette, legend=legend)\n",
    "    axes[1, 0].set_title('Rating vs Total Time')\n",
    "\n",
    "    # rating vs cost\n",
    "    sns.boxplot(x=x, y='cost_of_the_order', data=df, ax=axes[1, 1], hue=x, palette=palette, legend=legend)\n",
    "    axes[1, 1].set_title('Rating vs Cost')\n",
    "\n",
    "    plt.tight_layout()\n",
    "    plt.show()\n",
    "\n",
    "#call the function\n",
    "plot_rating_insights(df_foodhub, x='rating', palette='plasma')\n"
   ]
  },
  {
   "cell_type": "markdown",
   "metadata": {
    "id": "SiP-IDulC5vs"
   },
   "source": [
    "##### **Observations:**\n",
    "- It appears that ratings are more or less unaffected by the time it takes to get the order nor cost.\n",
    "- This can indicate high levels of customer satisfactinon and efficiency in both food prep and delivery times.\n",
    "- Customers should be incentivized to provide ratings as this is a valuable measures for the business."
   ]
  },
  {
   "cell_type": "markdown",
   "metadata": {
    "id": "dHcAotIaEsfZ"
   },
   "source": [
    "#### **Weekly Delivery Times**"
   ]
  },
  {
   "cell_type": "code",
   "execution_count": null,
   "metadata": {
    "colab": {
     "base_uri": "https://localhost:8080/",
     "height": 807
    },
    "executionInfo": {
     "elapsed": 232,
     "status": "ok",
     "timestamp": 1706904581230,
     "user": {
      "displayName": "Nathan Sickler",
      "userId": "08962164009556034743"
     },
     "user_tz": 360
    },
    "id": "KFyUXIJuEnlR",
    "outputId": "b8001f25-ff11-4b73-9227-c7ba8c9eeb6c"
   },
   "outputs": [],
   "source": [
    "#relationship between day of the week and delivery time\n",
    "\n",
    "plt.figure(figsize=(10, 8))\n",
    "sns.boxplot(x='day_of_the_week', y='delivery_time', data=df_foodhub, hue='day_of_the_week', palette='Set2')\n",
    "plt.title('Delivery Time by Day of the Week')\n",
    "plt.xlabel('Day of the Week')\n",
    "plt.ylabel('Delivery Time (minutes)')\n",
    "plt.tight_layout()\n",
    "plt.show()"
   ]
  },
  {
   "cell_type": "markdown",
   "metadata": {
    "id": "HZFIa8XT_RU0"
   },
   "source": [
    "##### **Observations:**\n",
    "  - The median delivery appears consistent between weekends and weekdays.\n",
    "  - Delivery times on the weekdays are slightly longer. This could be due to traffic during the week.\n",
    "  - There does not appear to be any outliers."
   ]
  },
  {
   "cell_type": "markdown",
   "metadata": {
    "id": "YLkMf09YJY_V"
   },
   "source": [
    "### **Question 13:** The company wants to provide a promotional offer in the advertisement of the restaurants. The condition to get the offer is that the restaurants must have a rating count of more than 50 and the average rating should be greater than 4. Find the restaurants fulfilling the criteria to get the promotional offer."
   ]
  },
  {
   "cell_type": "code",
   "execution_count": null,
   "metadata": {
    "colab": {
     "base_uri": "https://localhost:8080/",
     "height": 175
    },
    "executionInfo": {
     "elapsed": 6,
     "status": "ok",
     "timestamp": 1706904581230,
     "user": {
      "displayName": "Nathan Sickler",
      "userId": "08962164009556034743"
     },
     "user_tz": 360
    },
    "id": "0M_QDvbYJY_V",
    "outputId": "997ab4dd-7cba-4cc3-c1c7-40fe2cdeccdd"
   },
   "outputs": [],
   "source": [
    "# filter out rows where there is no rating as these will skew the outcomes\n",
    "df_foodhub_filtered = df_foodhub[df_foodhub['rating'] != 0]\n",
    "\n",
    "# group by restaurant name and calculate the average rating and count the of ratings for each restaurant\n",
    "df_foodhub_grouped = df_foodhub_filtered.groupby('restaurant_name').agg(\n",
    "    mean_rating=('rating', 'mean'),\n",
    "    rating_count=('rating', 'count')\n",
    ").reset_index()\n",
    "\n",
    "# get restaurants that have a rating count more than 50 and average rating greater than 4\n",
    "df_foodhub_promo_qaulified = df_foodhub_grouped[(df_foodhub_grouped['rating_count'] > 50) & (df_foodhub_grouped['mean_rating'] > 4)]\n",
    "\n",
    "# making a copy to avoid slice warning appearing when running notebook.\n",
    "df_foodhub_promo_qaulified = df_foodhub_promo_qaulified.copy()\n",
    "\n",
    "# sort values and drop index\n",
    "df_foodhub_promo_qaulified.sort_values('rating_count', ascending=False, inplace=True)\n",
    "df_foodhub_promo_qaulified.reset_index(drop=True, inplace=True)\n",
    "\n",
    "df_foodhub_promo_qaulified.head()"
   ]
  },
  {
   "cell_type": "markdown",
   "metadata": {
    "id": "10uryUMhJY_V"
   },
   "source": [
    "##### **Observations:**\n",
    "- The Meatball Shop, Blue Ribbon Fried Chicken, Shake Shack, and Blue Ribbon Sushi have qualified for the promotional offer."
   ]
  },
  {
   "cell_type": "markdown",
   "metadata": {
    "id": "1gvWBkRUJY_V"
   },
   "source": [
    "### **Question 14:** The company charges the restaurant 25% on the orders having cost greater than 20 dollars and 15% on the orders having cost greater than 5 dollars. Find the net revenue generated by the company across all orders."
   ]
  },
  {
   "cell_type": "code",
   "execution_count": null,
   "metadata": {
    "colab": {
     "base_uri": "https://localhost:8080/"
    },
    "executionInfo": {
     "elapsed": 255,
     "status": "ok",
     "timestamp": 1706904581480,
     "user": {
      "displayName": "Nathan Sickler",
      "userId": "08962164009556034743"
     },
     "user_tz": 360
    },
    "id": "rEjbnTNEJY_W",
    "outputId": "3ec0f6ae-fe2c-4495-c591-a336af24497c"
   },
   "outputs": [],
   "source": [
    "#returns calculated revenue\n",
    "def calculate_revenue(cost):\n",
    "    return np.where(cost > 20, cost * 0.25,\n",
    "            np.where((5 < cost) & (cost <= 20), cost * 0.15, 0))\n",
    "\n",
    "df_foodhub['net_revenue'] = calculate_revenue(df_foodhub['cost_of_the_order'].values)\n",
    "\n",
    "#sums and rounds net_revenue values then stores the result as a variable\n",
    "net_revenue = round(df_foodhub['net_revenue'].sum(), 2)\n",
    "\n",
    "print(net_revenue)"
   ]
  },
  {
   "cell_type": "markdown",
   "metadata": {
    "id": "XHCEJgH0JY_W"
   },
   "source": [
    "##### **Observations:**\n",
    "- Foodhub collected 6,166.30 of net revenue\n",
    "- Charging a higher fee for orders greater that $20 appears to be a strategic in nature. More analysis could be done to determine if revenue is being optimized without losing customers."
   ]
  },
  {
   "cell_type": "markdown",
   "metadata": {
    "id": "pRlVW-oeJY_W"
   },
   "source": [
    "### **Question 15:** The company wants to analyze the total time required to deliver the food. What percentage of orders take more than 60 minutes to get delivered from the time the order is placed? (The food has to be prepared and then delivered.)"
   ]
  },
  {
   "cell_type": "code",
   "execution_count": null,
   "metadata": {
    "colab": {
     "base_uri": "https://localhost:8080/"
    },
    "executionInfo": {
     "elapsed": 6,
     "status": "ok",
     "timestamp": 1706904581480,
     "user": {
      "displayName": "Nathan Sickler",
      "userId": "08962164009556034743"
     },
     "user_tz": 360
    },
    "id": "zxoTrxfLJY_W",
    "outputId": "7085c39c-1594-41b1-cc4f-8bf3e5c67932"
   },
   "outputs": [],
   "source": [
    "#function to calculate percent of 60\n",
    "\n",
    "def calculate_percentage_over_60(df):\n",
    "\n",
    "    #sums total time and deliveries over 60\n",
    "    ttl_deliveries_60 = len(df[(df['food_preparation_time'] + df['delivery_time']) > 60])\n",
    "\n",
    "    #total orders\n",
    "    ttl_orders = len(df)\n",
    "\n",
    "    #percent over 60\n",
    "    prcnt_60 = round((ttl_deliveries_60 / ttl_orders) * 100, 2)\n",
    "\n",
    "    return prcnt_60\n",
    "\n",
    "percentage_over_60 = calculate_percentage_over_60(df_foodhub)\n",
    "print(percentage_over_60)\n"
   ]
  },
  {
   "cell_type": "markdown",
   "metadata": {
    "id": "iqzBXn2yJY_W"
   },
   "source": [
    "##### **Observations:**\n",
    "- 10.54% of the FoodHub orders take more than 60 minutes to delver from the time the order was placed."
   ]
  },
  {
   "cell_type": "code",
   "execution_count": null,
   "metadata": {
    "id": "bUd6cYpPJY_W"
   },
   "outputs": [],
   "source": [
    "### **Question 16:** The company wants to analyze the delivery time of the orders on weekdays and weekends. How does the mean delivery time vary during weekdays and weekends?"
   ]
  },
  {
   "cell_type": "code",
   "execution_count": null,
   "metadata": {
    "colab": {
     "base_uri": "https://localhost:8080/"
    },
    "executionInfo": {
     "elapsed": 5,
     "status": "ok",
     "timestamp": 1706904581480,
     "user": {
      "displayName": "Nathan Sickler",
      "userId": "08962164009556034743"
     },
     "user_tz": 360
    },
    "id": "pIU5xZZ6JY_W",
    "outputId": "c5f6ccb2-5664-4153-bacb-03330b607b2c"
   },
   "outputs": [],
   "source": [
    "# Calculates the mean delivery time for weekdays and weekends\n",
    "mean_delivery_time_weekdays = round(df_foodhub[df_foodhub['day_of_the_week'] == 'Weekday']['delivery_time'].mean(),2)\n",
    "mean_delivery_time_weekends = round(df_foodhub[df_foodhub['day_of_the_week'] == 'Weekend']['delivery_time'].mean(),2)\n",
    "\n",
    "print('Weekday Avg Delivery Time:', mean_delivery_time_weekdays)\n",
    "print('Weekend Avg Delivery Time:', mean_delivery_time_weekends)\n",
    "\n",
    "print(f\"It took an average of {round((mean_delivery_time_weekdays - mean_delivery_time_weekends), 2)} mins more to deliver the food on weekdays\")"
   ]
  },
  {
   "cell_type": "markdown",
   "metadata": {
    "id": "8H-ODxbVJY_W"
   },
   "source": [
    "##### **Observations:**\n",
    "- Mean delivery time on the weekdays is 28.34 minutes versus 22.47 minutes for weekend orders.\n",
    "- It took an average of 5.87 mins more to deliver the food on weekdays."
   ]
  },
  {
   "cell_type": "markdown",
   "metadata": {
    "id": "ZdX2Wz4FJY_W"
   },
   "source": [
    "### **Question 17:** What are your conclusions from the analysis? What recommendations would you like to share to help improve the business? (You can use cuisine type and feedback ratings to drive your business recommendations.)"
   ]
  },
  {
   "cell_type": "markdown",
   "metadata": {
    "id": "17roJywaJY_W"
   },
   "source": [
    "##### **Conclusion and Recommendations**"
   ]
  },
  {
   "cell_type": "markdown",
   "metadata": {
    "id": "iqO6ECTSIWxP"
   },
   "source": [
    "##### **Customer Ratings**\n",
    "> ###### **Conclusion:**\n",
    ">\n",
    "> A notable number of orders are not receiving ratings. This suggests potential gaps in customer engagement or satisfaction measurement efforts.\n",
    ">\n",
    "> The willingness of a customer to leave a review appears to be largely independent of all operational metrics. This infers that there are other factors at play such as food quality or service which are exhibiting a more pronounced impact on ratings being provided.\n",
    ">\n",
    "> ###### **Recommendations:**\n",
    ">\n",
    "> Focus on enhancing food quality, service, and implement strategies that will incentivize customers into providing feedback. This will lead to an increased number of ratings being provided. This will provide the business with the data necessary to gain deeper insights into what drives customer satisfaction.\n",
    "\n"
   ]
  },
  {
   "cell_type": "markdown",
   "metadata": {
    "id": "byToaTnuJJ27"
   },
   "source": [
    "##### **Cuisine Preference and Price Sensitivity**\n",
    "\n",
    "> ###### **Conclusion:**\n",
    "> There are significant variations in the costs and the popularity of cuisines. Certain cuisines have a more budget-friendly feel, others are priced to appeal to the majority, while others are clear outliers, exhibiting a significantly higher than average cost. This reflects diverse customer preferences and price sensitivity.\n",
    ">\n",
    "> ###### **Recommendations:**\n",
    ">\n",
    "> Expand the variety of cuisine options available, primarily for those in the budget-friendly category. Address the high-cost outliers by reviewing pricing strategies, promotional offers, and creating strategic partnerships with restaurants with a commitment to customer satisfaction and profits."
   ]
  },
  {
   "cell_type": "markdown",
   "metadata": {
    "id": "cm47gtJhJJ0X"
   },
   "source": [
    "##### **Order Revenue Maximization**\n",
    "\n",
    "> ###### **Conclusion:**\n",
    "> There is a noticeable surge in demand on the weekends vs weekdays. Weekend order volume is approximately twice that of weekdays.\n",
    ">\n",
    "> ###### **Recommendation:**\n",
    "> Continue to focus on the weekend deliveries as a main revenue driver while also reducing the number of incentives or promotions being offered during this timeframe. Influence volume during the week with a combination of targeted incentives, promotions, meal deals, discounts, and featured restaurants should be deployed. Increasing marketing spend in this way is a good way to encourage customers to choose FoodHub during their workweek."
   ]
  },
  {
   "cell_type": "markdown",
   "metadata": {
    "id": "w5ljVTjpJJxT"
   },
   "source": [
    "##### **Operational Efficiency**\n",
    "\n",
    "> ###### **Conclusion:**\n",
    "> Despite the lack of a strong correlation between food preparation and delivery times on customer ratings, consistent performance in these areas is crucial for maintaining customer expectations.\n",
    ">\n",
    "> ###### **Recommendation:**\n",
    ">\n",
    "> Maintain operational efficiency to ensure customer getting what they have come to expect.\n",
    "Additionally, it's advisable to explore innovative methods that will cut down on food prep and delivery times, while also ensuring food quality and customer service remain unaffected."
   ]
  },
  {
   "cell_type": "markdown",
   "metadata": {
    "id": "wfx_ckD_JJup"
   },
   "source": [
    "##### **Strategic Fee Structure**\n",
    "\n",
    "> ###### **Conclusion:**\n",
    "> The existing fee strategy of imposing a 25% fee for orders over $20 and 15% for those between $5 and $20, may not be fully optimizing fee-based revenue.\n",
    ">\n",
    "> ###### **Recommendation:**\n",
    "> Run optimization scenarios and gather feedback from restaurants regarding how the fee affects their overall margins and whether the fee is being passed to the consumer. An optimal balance is critical in order to maintain healthy relationships with restaurants while not stubbing their ability to provide good food at a good price."
   ]
  },
  {
   "cell_type": "markdown",
   "metadata": {
    "id": "YSJ6v1JVJJq5"
   },
   "source": [
    "##### **AI/ML Adoption**\n",
    "\n",
    "> ###### **Conclusion:**\n",
    "> Given the increase prevalence and access to AI/Ml technologies, investing in these technologies now is prudent for a sustained and durable competitive advantage to be realized.\n",
    ">\n",
    "> ###### **Recommendation:**\n",
    "> AI/ML can be used for peak demand pricing strategies, personalized pricing and promotional offers, tailored menu suggestions, and loyalty incentive programs. Other areas AI/ML will show a sizable impact are sentiment analysis, real-time demand forecasting, or delivery route optimization.\n",
    ">\n",
    "> By implementing and executing on the recommendations provided; FoodHub will be able safeguard their market competitiveness, increase customer satisfaction, brand loyalty, and strategic partnerships."
   ]
  }
 ],
 "metadata": {
  "colab": {
   "collapsed_sections": [
    "gWPMqGq0JY_U"
   ],
   "provenance": []
  },
  "kernelspec": {
   "display_name": "base",
   "language": "python",
   "name": "python3"
  },
  "language_info": {
   "codemirror_mode": {
    "name": "ipython",
    "version": 3
   },
   "file_extension": ".py",
   "mimetype": "text/x-python",
   "name": "python",
   "nbconvert_exporter": "python",
   "pygments_lexer": "ipython3",
   "version": "3.10.9"
  }
 },
 "nbformat": 4,
 "nbformat_minor": 4
}
